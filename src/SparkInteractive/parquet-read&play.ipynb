{
 "cells": [
  {
   "cell_type": "code",
   "execution_count": null,
   "metadata": {
    "dotnet_interactive": {
     "language": "csharp"
    }
   },
   "outputs": [],
   "source": [
    "#r \"nuget:Microsoft.Spark\""
   ]
  },
  {
   "cell_type": "code",
   "execution_count": null,
   "metadata": {
    "dotnet_interactive": {
     "language": "csharp"
    }
   },
   "outputs": [],
   "source": [
    "using Microsoft.Spark;\n",
    "using Microsoft.Spark.Sql;\n",
    "using static Microsoft.Spark.Sql.Functions;\n",
    "\n",
    "// run spark : spark-submit --class org.apache.spark.deploy.dotnet.DotnetRunner --master local D:\\3bStudio\\Sandbox\\spark-program\\FirstSparkProgram\\bin\\Debug\\net6.0\\microsoft-spark-3-0_2.12-2.1.0.jar debug\n",
    "// see Spark portal at : http://localhost:4040\n",
    "var spark = SparkSession\n",
    "    .Builder()\n",
    "    .AppName(\"testing interactive app\")\n",
    "    .GetOrCreate();"
   ]
  },
  {
   "cell_type": "code",
   "execution_count": null,
   "metadata": {
    "dotnet_interactive": {
     "language": "csharp"
    }
   },
   "outputs": [],
   "source": [
    "// Chargement des tables de données\n",
    "var products_table = spark.Read().Parquet(\"D:/3bStudio/Sandbox/spark-program/resources/products_parquet\");\n",
    "var sales_table = spark.Read().Parquet(\"D:/3bStudio/Sandbox/spark-program/resources/sales_parquet\");\n",
    "var sellers_table = spark.Read().Parquet(\"D:/3bStudio/Sandbox/spark-program/resources/sellers_parquet\");"
   ]
  },
  {
   "cell_type": "code",
   "execution_count": null,
   "metadata": {
    "dotnet_interactive": {
     "language": "csharp"
    }
   },
   "outputs": [],
   "source": [
    "// Comptage du nombre d'éléments par table\n",
    "var productCount = products_table.Count();\n",
    "var salesCount = sales_table.Count();\n",
    "var sellersCount = sellers_table.Count();"
   ]
  },
  {
   "cell_type": "code",
   "execution_count": null,
   "metadata": {
    "dotnet_interactive": {
     "language": "csharp"
    }
   },
   "outputs": [],
   "source": [
    "// Affichage des résultats\n",
    "Console.WriteLine($\"______________nb of products: {productCount}\");\n",
    "Console.WriteLine($\"______________nb of sales: {salesCount}\");\n",
    "Console.WriteLine($\"______________nb of Sellers: {sellersCount}\");"
   ]
  },
  {
   "cell_type": "code",
   "execution_count": null,
   "metadata": {
    "dotnet_interactive": {
     "language": "csharp"
    }
   },
   "outputs": [],
   "source": [
    "// Get 10 first most sold disctinct products\n",
    "sales_table.GroupBy(\"date\")\n",
    "            .Agg(Functions.CountDistinct(\"product_id\"))\n",
    "            .Alias(\"distinct_products_sold\")\n",
    "            .Show();"
   ]
  },
  {
   "cell_type": "code",
   "execution_count": null,
   "metadata": {
    "dotnet_interactive": {
     "language": "csharp"
    }
   },
   "outputs": [],
   "source": [
    "// Uses Spark SQL to get top 10 most sold products\n",
    "sales_table.CreateOrReplaceTempView(\"salesTable\");\n",
    "spark.Sql(\"SELECT date, count(*) as distinct_products_sold FROM salesTable GROUP BY date\")\n",
    "    .Show();"
   ]
  },
  {
   "cell_type": "code",
   "execution_count": null,
   "metadata": {
    "dotnet_interactive": {
     "language": "csharp"
    }
   },
   "outputs": [],
   "source": [
    "// Get Average price per sales\n",
    "sales_table\n",
    "    .Join(products_table, sales_table[\"product_id\"] == products_table[\"product_id\"], \"inner\")\n",
    "    .Agg(Functions.Avg(products_table[\"price\"] * sales_table[\"num_pieces_sold\"]))\n",
    "    .Show();"
   ]
  },
  {
   "cell_type": "code",
   "execution_count": null,
   "metadata": {
    "dotnet_interactive": {
     "language": "csharp"
    }
   },
   "outputs": [],
   "source": [
    "// Get Average price per sales using Spark SQL\n",
    "sales_table.CreateOrReplaceTempView(\"salesTable\");\n",
    "products_table.CreateOrReplaceTempView(\"productsTable\");\n",
    "spark.Sql(@\"SELECT AVG(productsTable.price*salesTable.num_pieces_sold) as average_sales \n",
    "            FROM salesTable \n",
    "            INNER JOIN productsTable on productsTable.product_id = productsTable.product_id\")\n",
    "    .Show();"
   ]
  }
 ],
 "metadata": {
  "kernelspec": {
   "display_name": ".NET (C#)",
   "language": "C#",
   "name": ".net-csharp"
  },
  "language_info": {
   "name": "C#"
  }
 },
 "nbformat": 4,
 "nbformat_minor": 2
}
