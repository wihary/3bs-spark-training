{
 "cells": [
  {
   "cell_type": "code",
   "execution_count": null,
   "metadata": {
    "dotnet_interactive": {
     "language": "csharp"
    }
   },
   "outputs": [
    {
     "data": {
      "text/html": [
       "<div><div></div><div></div><div><strong>Installed Packages</strong><ul><li><span>Microsoft.Spark, 2.1.0</span></li></ul></div></div>"
      ]
     },
     "metadata": {},
     "output_type": "display_data"
    },
    {
     "data": {
      "text/markdown": [
       "Loading extensions from `Microsoft.Data.Analysis.Interactive.dll`"
      ]
     },
     "metadata": {},
     "output_type": "display_data"
    }
   ],
   "source": [
    "#r \"nuget:Microsoft.Spark\""
   ]
  },
  {
   "cell_type": "code",
   "execution_count": null,
   "metadata": {
    "dotnet_interactive": {
     "language": "csharp"
    }
   },
   "outputs": [
    {
     "name": "stdout",
     "output_type": "stream",
     "text": [
      "[2022-03-11T10:03:08.7845521Z] [SURFACE-WHA] [Info] [ConfigurationService] 'DOTNETBACKEND_PORT' environment variable is not set.\r\n",
      "[2022-03-11T10:03:08.7867738Z] [SURFACE-WHA] [Info] [ConfigurationService] Using port 5567 for connection.\r\n",
      "[2022-03-11T10:03:08.7874468Z] [SURFACE-WHA] [Info] [JvmBridge] JvMBridge port is 5567\r\n",
      "[2022-03-11T10:03:08.7880957Z] [SURFACE-WHA] [Info] [JvmBridge] The number of JVM backend thread is set to 10. The max number of concurrent sockets in JvmBridge is set to 7.\r\n"
     ]
    }
   ],
   "source": [
    "using Microsoft.Spark;\n",
    "using Microsoft.Spark.Sql;\n",
    "using static Microsoft.Spark.Sql.Functions;\n",
    "\n",
    "// run spark : spark-submit --class org.apache.spark.deploy.dotnet.DotnetRunner --master local D:\\3bStudio\\Sandbox\\spark-program\\FirstSparkProgram\\bin\\Debug\\net6.0\\microsoft-spark-3-0_2.12-2.1.0.jar debug\n",
    "var spark = SparkSession\n",
    "    .Builder()\n",
    "    .AppName(\"testing interactive app\")\n",
    "    .GetOrCreate();"
   ]
  },
  {
   "cell_type": "code",
   "execution_count": null,
   "metadata": {
    "dotnet_interactive": {
     "language": "csharp"
    }
   },
   "outputs": [],
   "source": [
    "// Chargement des tables de données\n",
    "var products_table = spark.Read().Parquet(\"D:/3bStudio/Sandbox/spark-program/resources/products_parquet\");\n",
    "var sales_table = spark.Read().Parquet(\"D:/3bStudio/Sandbox/spark-program/resources/sales_parquet\");\n",
    "var sellers_table = spark.Read().Parquet(\"D:/3bStudio/Sandbox/spark-program/resources/sellers_parquet\");"
   ]
  },
  {
   "cell_type": "code",
   "execution_count": null,
   "metadata": {
    "dotnet_interactive": {
     "language": "csharp"
    }
   },
   "outputs": [],
   "source": [
    "// Comptage du nombre d'éléments par table\n",
    "var productCount = products_table.Count();\n",
    "var salesCount = sales_table.Count();\n",
    "var sellersCount = sellers_table.Count();"
   ]
  },
  {
   "cell_type": "code",
   "execution_count": null,
   "metadata": {
    "dotnet_interactive": {
     "language": "csharp"
    }
   },
   "outputs": [
    {
     "name": "stdout",
     "output_type": "stream",
     "text": [
      "______________nb of products: 75000000\r\n",
      "______________nb of sales: 20000040\r\n",
      "______________nb of Sellers: 10\r\n"
     ]
    }
   ],
   "source": [
    "// Affichage des résultats\n",
    "Console.WriteLine($\"______________nb of products: {productCount}\");\n",
    "Console.WriteLine($\"______________nb of sales: {salesCount}\");\n",
    "Console.WriteLine($\"______________nb of Sellers: {sellersCount}\");"
   ]
  },
  {
   "cell_type": "code",
   "execution_count": null,
   "metadata": {
    "dotnet_interactive": {
     "language": "csharp"
    }
   },
   "outputs": [
    {
     "name": "stdout",
     "output_type": "stream",
     "text": [
      "+----------+-----------------+\n",
      "|      date|count(product_id)|\n",
      "+----------+-----------------+\n",
      "|2020-07-03|           100017|\n",
      "|2020-07-07|            99756|\n",
      "|2020-07-01|           100337|\n",
      "|2020-07-08|            99662|\n",
      "|2020-07-04|            99791|\n",
      "|2020-07-10|            98973|\n",
      "|2020-07-09|           100501|\n",
      "|2020-07-06|           100765|\n",
      "|2020-07-02|            99807|\n",
      "|2020-07-05|            99796|\n",
      "+----------+-----------------+\n",
      "\r\n"
     ]
    }
   ],
   "source": [
    "// Get 10 first most sold disctinct products\n",
    "sales_table.GroupBy(\"date\")\n",
    "            .Agg(Functions.CountDistinct(\"product_id\"))\n",
    "            .Alias(\"distinct_products_sold\")\n",
    "            .Show();"
   ]
  },
  {
   "cell_type": "code",
   "execution_count": null,
   "metadata": {
    "dotnet_interactive": {
     "language": "csharp"
    }
   },
   "outputs": [
    {
     "name": "stdout",
     "output_type": "stream",
     "text": [
      "+----------+----------------------+\n",
      "|      date|distinct_products_sold|\n",
      "+----------+----------------------+\n",
      "|2020-07-03|               2000651|\n",
      "|2020-07-07|               2000807|\n",
      "|2020-07-01|               2001370|\n",
      "|2020-07-08|               2000451|\n",
      "|2020-07-04|               2000949|\n",
      "|2020-07-10|               1998505|\n",
      "|2020-07-09|               2000402|\n",
      "|2020-07-06|               2001302|\n",
      "|2020-07-02|               1998985|\n",
      "|2020-07-05|               1996618|\n",
      "+----------+----------------------+\n",
      "\r\n"
     ]
    }
   ],
   "source": [
    "// Uses Spark SQL to get top 10 most sold products\n",
    "sales_table.CreateOrReplaceTempView(\"salesTable\");\n",
    "spark.Sql(\"SELECT date, count(*) as distinct_products_sold FROM salesTable GROUP BY date\")\n",
    "    .Show();"
   ]
  }
 ],
 "metadata": {
  "kernelspec": {
   "display_name": ".NET (C#)",
   "language": "C#",
   "name": ".net-csharp"
  },
  "language_info": {
   "name": "C#"
  }
 },
 "nbformat": 4,
 "nbformat_minor": 2
}
