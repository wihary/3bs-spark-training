{
 "cells": [
  {
   "cell_type": "code",
   "execution_count": null,
   "metadata": {
    "dotnet_interactive": {
     "language": "csharp"
    }
   },
   "outputs": [],
   "source": [
    "#r \"nuget:Microsoft.Spark\"\n",
    "#r \"nuget:Microsoft.ML\""
   ]
  },
  {
   "cell_type": "code",
   "execution_count": null,
   "metadata": {
    "dotnet_interactive": {
     "language": "csharp"
    }
   },
   "outputs": [],
   "source": [
    "using System;\n",
    "using System.Collections.Generic;\n",
    "using System.Linq;\n",
    "using Microsoft.ML;\n",
    "using Microsoft.ML.Data;\n",
    "using Microsoft.Spark;\n",
    "using Microsoft.Spark.Sql;\n",
    "using Microsoft.Spark.Sql.Types;\n",
    "using static Microsoft.Spark.Sql.Functions;\n",
    "\n",
    "// run spark : spark-submit --class org.apache.spark.deploy.dotnet.DotnetRunner --master local D:\\3bStudio\\Sandbox\\spark-program\\FirstSparkProgram\\bin\\Debug\\net6.0\\microsoft-spark-3-0_2.12-2.1.0.jar debug\n",
    "// see Spark portal at : http://localhost:4040\n",
    "var spark = SparkSession\n",
    "    .Builder()\n",
    "    .AppName(\"spark-use-ml-model\")\n",
    "    .GetOrCreate();\n",
    "\n",
    "spark.SparkContext.SetLogLevel(\"WARN\");"
   ]
  },
  {
   "cell_type": "code",
   "execution_count": null,
   "metadata": {
    "dotnet_interactive": {
     "language": "csharp"
    }
   },
   "outputs": [
    {
     "name": "stdout",
     "output_type": "stream",
     "text": [
      "struct<age:float,cholesterol:float,restingBP:float,fastingBS:float>\r\n",
      "[40,289,140,0]\r\n"
     ]
    }
   ],
   "source": [
    "var inputSchema = new StructType(new[]\n",
    "    {\n",
    "        new StructField(\"age\", new FloatType()),\n",
    "        new StructField(\"cholesterol\", new FloatType()),\n",
    "        new StructField(\"restingBP\", new FloatType()),\n",
    "        new StructField(\"fastingBS\", new FloatType())\n",
    "    });\n",
    "\n",
    "DataFrame df = spark.Read().Schema(inputSchema).Json(\"D:/3bStudio/Sandbox/3bs-spark-training/resources/ml-input.json\");\n",
    "\n",
    "var schema = df.Schema();\n",
    "Console.WriteLine(schema.SimpleString);\n",
    "\n",
    "IEnumerable<Row> rows = df.Collect();\n",
    "foreach (Row row in rows)\n",
    "{\n",
    "    Console.WriteLine(row);\n",
    "}"
   ]
  },
  {
   "cell_type": "code",
   "execution_count": null,
   "metadata": {
    "dotnet_interactive": {
     "language": "csharp"
    }
   },
   "outputs": [],
   "source": [
    "MLContext mlContext = new MLContext();\n",
    "ITransformer model = mlContext.Model.Load(\"D:/2.Sandbox/3bs-spark-training/resources/heart-classification.zip\", out DataViewSchema schema);\n",
    "_predictionEngine = mlContext.Model.CreatePredictionEngine<ModelInput, ModelOutput>(model);\n",
    "\n",
    "static bool predict(string text)\n",
    "{\n",
    "    ModelInput input = new ModelInput\n",
    "    {\n",
    "        ReviewText = text\n",
    "    };\n",
    "\n",
    "    return _predictionEngine.Predict(input).Prediction;\n",
    "}"
   ]
  },
  {
   "cell_type": "code",
   "execution_count": null,
   "metadata": {
    "dotnet_interactive": {
     "language": "csharp"
    }
   },
   "outputs": [],
   "source": [
    "spark.Udf()\n",
    "    .Register<string, bool>(\"MLudf\", predict);\n",
    "\n",
    "// Use Spark SQL to call ML.NET UDF\n",
    "df.CreateOrReplaceTempView(\"Heart-data\");\n",
    "DataFrame sqlDf = spark.Sql(\"SELECT ReviewText, MLudf(ReviewText) FROM Heart-data\");\n",
    "sqlDf.Show();\n",
    "\n",
    "// Print out first 20 rows of data\n",
    "// Prevent data getting cut off by setting truncate = 0\n",
    "sqlDf.Show(20, 0, false);\n",
    "\n",
    "spark.Stop();"
   ]
  }
 ],
 "metadata": {
  "kernelspec": {
   "display_name": ".NET (C#)",
   "language": "C#",
   "name": ".net-csharp"
  },
  "language_info": {
   "name": "C#"
  }
 },
 "nbformat": 4,
 "nbformat_minor": 2
}
