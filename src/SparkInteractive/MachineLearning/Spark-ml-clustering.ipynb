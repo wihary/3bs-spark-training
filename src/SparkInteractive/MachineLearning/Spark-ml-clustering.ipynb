{
 "cells": [
  {
   "cell_type": "code",
   "execution_count": null,
   "metadata": {
    "dotnet_interactive": {
     "language": "csharp"
    }
   },
   "outputs": [],
   "source": [
    "#r \"nuget:Microsoft.Spark\"\n",
    "#r \"nuget:Microsoft.ML\""
   ]
  },
  {
   "cell_type": "code",
   "execution_count": null,
   "metadata": {
    "dotnet_interactive": {
     "language": "csharp"
    }
   },
   "outputs": [],
   "source": [
    "using System;\n",
    "using System.Collections.Generic;\n",
    "using System.Linq;\n",
    "using Microsoft.ML;\n",
    "using Microsoft.ML.Data;\n",
    "using Microsoft.ML.Trainers;\n",
    "using Microsoft.Spark;\n",
    "using Microsoft.Spark.Sql;\n",
    "using static Microsoft.Spark.Sql.Functions;\n",
    "\n",
    "// run spark : spark-submit --class org.apache.spark.deploy.dotnet.DotnetRunner --master local D:\\3bStudio\\Sandbox\\spark-program\\FirstSparkProgram\\bin\\Debug\\net6.0\\microsoft-spark-3-0_2.12-2.1.0.jar debug\n",
    "// see Spark portal at : http://localhost:4040\n",
    "var spark = SparkSession\n",
    "    .Builder()\n",
    "    .AppName(\"spark-ml-clustering\")\n",
    "    .GetOrCreate();\n",
    "\n",
    "spark.SparkContext.SetLogLevel(\"WARN\");"
   ]
  },
  {
   "cell_type": "code",
   "execution_count": null,
   "metadata": {
    "dotnet_interactive": {
     "language": "csharp"
    }
   },
   "outputs": [],
   "source": [
    "DataFrame df = spark\n",
    "    .Read()\n",
    "    .Option(\"header\", true)\n",
    "    .Option(\"inferSchema\", true)\n",
    "    .Csv(@\"D:\\3bStudio\\Sandbox\\3bs-spark-training\\resources\\heart.csv\");\n",
    "\n",
    "df.Show();"
   ]
  },
  {
   "cell_type": "code",
   "execution_count": null,
   "metadata": {
    "dotnet_interactive": {
     "language": "csharp"
    }
   },
   "outputs": [],
   "source": [
    "public class HeartProfile\n",
    "{\n",
    "    public float Age;\n",
    "    public float Cholesterol;\n",
    "    public float RestingBP;\n",
    "    public float FastingBS;\n",
    "    public bool HeartDisease;\n",
    "}\n",
    "\n",
    "public class ClusterPrediction\n",
    "{\n",
    "    [ColumnName(\"PredictedLabel\")]\n",
    "    public uint PredictedClusterId;\n",
    "\n",
    "    [ColumnName(\"Score\")]\n",
    "    public float[] Distances;\n",
    "}"
   ]
  },
  {
   "cell_type": "code",
   "execution_count": null,
   "metadata": {
    "dotnet_interactive": {
     "language": "csharp"
    }
   },
   "outputs": [],
   "source": [
    "var rows = df.Collect().ToList();\n",
    "\n",
    "var dataset = new List<HeartProfile>();\n",
    "foreach(var row in rows)\n",
    "{\n",
    "    object[] rowValues = row.Values;\n",
    "    \n",
    "    dataset.Add(new HeartProfile {\n",
    "        Age = Convert.ToSingle(rowValues[0]),\n",
    "        Cholesterol = Convert.ToSingle(rowValues[4]),\n",
    "        RestingBP = Convert.ToSingle(rowValues[3]),\n",
    "        FastingBS = Convert.ToSingle(rowValues[5]),\n",
    "        HeartDisease = (int)rowValues[11] == 1 ? true : false\n",
    "    });\n",
    "}"
   ]
  },
  {
   "cell_type": "code",
   "execution_count": null,
   "metadata": {
    "dotnet_interactive": {
     "language": "csharp"
    }
   },
   "outputs": [],
   "source": [
    "var mlContext = new MLContext();\n",
    "\n",
    "var dataView = mlContext.Data.LoadFromEnumerable(dataset);\n",
    "\n",
    "// Define trainer options.\n",
    "var options = new KMeansTrainer.Options\n",
    "{\n",
    "    NumberOfClusters = 3,\n",
    "    OptimizationTolerance = 1e-6f,\n",
    "    NumberOfThreads = 1,\n",
    "    FeatureColumnName = \"Features\"\n",
    "};\n",
    "\n",
    "// Define the trainer.\n",
    "var pipeline = mlContext.Transforms\n",
    "        .Concatenate(\"Features\", new[] { \"Age\", \"Cholesterol\", \"RestingBP\", \"FastingBS\" })\n",
    "        .Append(mlContext.Clustering.Trainers.KMeans(options));\n",
    "\n",
    "var model = pipeline.Fit(dataView);\n"
   ]
  },
  {
   "cell_type": "code",
   "execution_count": null,
   "metadata": {
    "dotnet_interactive": {
     "language": "csharp"
    }
   },
   "outputs": [],
   "source": [
    "var transformedTestData = model.Transform(dataView);\n",
    "var metrics = mlContext.Clustering.Evaluate(transformedTestData);\n",
    "\n",
    "metrics.Display();"
   ]
  },
  {
   "cell_type": "code",
   "execution_count": null,
   "metadata": {
    "dotnet_interactive": {
     "language": "csharp"
    }
   },
   "outputs": [],
   "source": [
    "var predictionEngine = mlContext.Model.CreatePredictionEngine<HeartProfile, ClusterPrediction>(model);\n",
    "\n",
    "var predictionResult = new List<ClusterPrediction>();\n",
    "foreach(var row in dataset)\n",
    "{\n",
    "    var result = predictionEngine.Predict(row);\n",
    "    predictionResult.Add(result);\n",
    "}\n",
    "\n",
    "var countCluster1 = predictionResult.Count(x => x.PredictedClusterId == 1);\n",
    "var countCluster2 = predictionResult.Count(x => x.PredictedClusterId == 2);\n",
    "var countCluster3 = predictionResult.Count(x => x.PredictedClusterId == 3);\n",
    "\n",
    "var countPeopleBadHeartCondition = dataset.Count(x => x.HeartDisease);\n",
    "Console.WriteLine($\"Labelde people : {countPeopleBadHeartCondition}\");\n",
    "Console.WriteLine($\"Cluster 1 : {countCluster1}\");\n",
    "Console.WriteLine($\"Cluster 2 : {countCluster2}\");\n",
    "Console.WriteLine($\"Cluster 3 : {countCluster3}\");"
   ]
  }
 ],
 "metadata": {
  "kernelspec": {
   "display_name": ".NET (C#)",
   "language": "C#",
   "name": ".net-csharp"
  },
  "language_info": {
   "name": "C#"
  }
 },
 "nbformat": 4,
 "nbformat_minor": 2
}
