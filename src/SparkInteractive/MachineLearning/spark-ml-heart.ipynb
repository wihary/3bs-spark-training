{
 "cells": [
  {
   "cell_type": "code",
   "execution_count": null,
   "metadata": {
    "dotnet_interactive": {
     "language": "csharp"
    }
   },
   "outputs": [],
   "source": [
    "#r \"nuget:Microsoft.Spark\"\n",
    "#r \"nuget:Microsoft.ML\"\n",
    "#r \"nuget:Microsoft.ML.FastTree\"\n",
    "#r \"nuget: Plotly.NET,2.0.0-preview.18\"\n",
    "#r \"nuget: Plotly.NET.Interactive,2.0.0-preview.1\""
   ]
  },
  {
   "cell_type": "code",
   "execution_count": null,
   "metadata": {
    "dotnet_interactive": {
     "language": "csharp"
    }
   },
   "outputs": [],
   "source": [
    "using System;\n",
    "using System.Collections.Generic;\n",
    "using System.Linq;\n",
    "using Microsoft.ML;\n",
    "using Microsoft.ML.Data;\n",
    "using Microsoft.ML.FastTree;\n",
    "using Microsoft.Spark;\n",
    "using Microsoft.Spark.Sql;\n",
    "using static Microsoft.Spark.Sql.Functions;\n",
    "using Plotly.NET;\n",
    "\n",
    "// run spark : spark-submit --class org.apache.spark.deploy.dotnet.DotnetRunner --master local D:\\3bStudio\\Sandbox\\spark-program\\FirstSparkProgram\\bin\\Debug\\net6.0\\microsoft-spark-3-0_2.12-2.1.0.jar debug\n",
    "// see Spark portal at : http://localhost:4040\n",
    "var spark = SparkSession\n",
    "    .Builder()\n",
    "    .AppName(\"spark-create-ml-model\")\n",
    "    .GetOrCreate();\n",
    "\n",
    "spark.SparkContext.SetLogLevel(\"WARN\");"
   ]
  },
  {
   "cell_type": "code",
   "execution_count": null,
   "metadata": {
    "dotnet_interactive": {
     "language": "csharp"
    }
   },
   "outputs": [],
   "source": [
    "DataFrame df = spark\n",
    "    .Read()\n",
    "    .Option(\"header\", true)\n",
    "    .Option(\"inferSchema\", true)\n",
    "    .Csv(@\"D:\\3bStudio\\Sandbox\\3bs-spark-training\\resources\\heart.csv\");\n",
    "\n",
    "df.Show();"
   ]
  },
  {
   "cell_type": "code",
   "execution_count": null,
   "metadata": {
    "dotnet_interactive": {
     "language": "csharp"
    }
   },
   "outputs": [],
   "source": [
    "df.PrintSchema();"
   ]
  },
  {
   "cell_type": "code",
   "execution_count": null,
   "metadata": {
    "dotnet_interactive": {
     "language": "csharp"
    }
   },
   "outputs": [],
   "source": [
    "public class HeartProfile\n",
    "{\n",
    "    public float Age;\n",
    "    public float Cholesterol;\n",
    "    public float RestingBP;\n",
    "    public float FastingBS;\n",
    "    public bool HeartDisease;\n",
    "}"
   ]
  },
  {
   "cell_type": "code",
   "execution_count": null,
   "metadata": {
    "dotnet_interactive": {
     "language": "csharp"
    }
   },
   "outputs": [],
   "source": [
    "var rows = df.Collect().ToList();\n",
    "\n",
    "var dataset = new List<HeartProfile>();\n",
    "foreach(var row in rows)\n",
    "{\n",
    "    object[] rowValues = row.Values;\n",
    "    \n",
    "    dataset.Add(new HeartProfile {\n",
    "        Age = Convert.ToSingle(rowValues[0]),\n",
    "        Cholesterol = Convert.ToSingle(rowValues[4]),\n",
    "        RestingBP = Convert.ToSingle(rowValues[3]),\n",
    "        FastingBS = Convert.ToSingle(rowValues[5]),\n",
    "        HeartDisease = (int)rowValues[11] == 1 ? true : false\n",
    "    });\n",
    "}"
   ]
  },
  {
   "cell_type": "code",
   "execution_count": null,
   "metadata": {
    "dotnet_interactive": {
     "language": "csharp"
    }
   },
   "outputs": [],
   "source": [
    "// Utilisation de PLOTLY pour visualiser notre dataset et comprendre ce qu'il contient\n",
    "var avergaeCholestrerolByAge =\n",
    "    from allData in dataset\n",
    "    group allData by allData.Age into groupedPeople\n",
    "    select new\n",
    "    {\n",
    "        Age = groupedPeople.Key,\n",
    "        AverageScore = groupedPeople.Average(x => x.Cholesterol),\n",
    "    };\n",
    "var chart = Chart2D.Chart.Column<float, float, string>(avergaeCholestrerolByAge.Select(x => x.Age).ToList(), avergaeCholestrerolByAge.Select(x => x.AverageScore).ToList());\n",
    "chart.Show();"
   ]
  },
  {
   "cell_type": "code",
   "execution_count": null,
   "metadata": {
    "dotnet_interactive": {
     "language": "csharp"
    }
   },
   "outputs": [],
   "source": [
    "var mlContext = new MLContext();\n",
    "\n",
    "var dataView = mlContext.Data.LoadFromEnumerable(dataset);\n",
    "DataOperationsCatalog.TrainTestData dataSplit = mlContext.Data.TrainTestSplit(dataView, testFraction: 0.2);\n",
    "\n",
    "IDataView trainData = dataSplit.TrainSet;\n",
    "IDataView testData = dataSplit.TestSet;"
   ]
  },
  {
   "cell_type": "code",
   "execution_count": null,
   "metadata": {
    "dotnet_interactive": {
     "language": "csharp"
    }
   },
   "outputs": [],
   "source": [
    "var pipeline = mlContext.Transforms\n",
    "        .Concatenate(\"Features\", new[] { \"Age\", \"Cholesterol\", \"RestingBP\", \"FastingBS\" })\n",
    "        .Append(mlContext.BinaryClassification.Trainers.FastTree(labelColumnName: \"HeartDisease\", featureColumnName: \"Features\"));"
   ]
  },
  {
   "cell_type": "code",
   "execution_count": null,
   "metadata": {
    "dotnet_interactive": {
     "language": "csharp"
    }
   },
   "outputs": [],
   "source": [
    "ITransformer trainedModel = pipeline.Fit(trainData);"
   ]
  },
  {
   "cell_type": "code",
   "execution_count": null,
   "metadata": {
    "dotnet_interactive": {
     "language": "csharp"
    }
   },
   "outputs": [],
   "source": [
    "var predictions = trainedModel.Transform(testData);\n",
    "var metrics = mlContext.BinaryClassification.Evaluate(data: predictions, labelColumnName: \"HeartDisease\", scoreColumnName: \"Score\");\n",
    "Console.WriteLine(\"\");\n",
    "Console.WriteLine(\"\");\n",
    "Console.WriteLine($\"************************************************************\");\n",
    "Console.WriteLine($\"*       Metrics for Heart disease detrection binary classification model      \");\n",
    "Console.WriteLine($\"*-----------------------------------------------------------\");\n",
    "Console.WriteLine($\"*       Accuracy: {metrics.Accuracy:P2}\");\n",
    "Console.WriteLine($\"*       Area Under Roc Curve:      {metrics.AreaUnderRocCurve:P2}\");\n",
    "Console.WriteLine($\"*       Area Under PrecisionRecall Curve:  {metrics.AreaUnderPrecisionRecallCurve:P2}\");\n",
    "Console.WriteLine($\"*       F1Score:  {metrics.F1Score:P2}\");\n",
    "Console.WriteLine($\"*       LogLoss:  {metrics.LogLoss:#.##}\");\n",
    "Console.WriteLine($\"*       LogLossReduction:  {metrics.LogLossReduction:#.##}\");\n",
    "Console.WriteLine($\"*       PositivePrecision:  {metrics.PositivePrecision:#.##}\");\n",
    "Console.WriteLine($\"*       PositiveRecall:  {metrics.PositiveRecall:#.##}\");\n",
    "Console.WriteLine($\"*       NegativePrecision:  {metrics.NegativePrecision:#.##}\");\n",
    "Console.WriteLine($\"*       NegativeRecall:  {metrics.NegativeRecall:P2}\");\n",
    "Console.WriteLine($\"************************************************************\");\n",
    "Console.WriteLine(\"\");\n",
    "Console.WriteLine(\"\");"
   ]
  },
  {
   "cell_type": "code",
   "execution_count": null,
   "metadata": {
    "dotnet_interactive": {
     "language": "csharp"
    }
   },
   "outputs": [],
   "source": [
    "// details : https://github.com/dotnet/machinelearning-samples/tree/main/samples/csharp/getting-started/BinaryClassification_HeartDiseaseDetection\n",
    "mlContext.Model.Save(trainedModel, trainData.Schema, \"D:/2.Sandbox/3bs-spark-training/resources/HeartClassification.zip\");"
   ]
  }
 ],
 "metadata": {
  "kernelspec": {
   "display_name": ".NET (C#)",
   "language": "C#",
   "name": ".net-csharp"
  },
  "language_info": {
   "name": "C#"
  }
 },
 "nbformat": 4,
 "nbformat_minor": 2
}
