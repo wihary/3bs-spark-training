{
 "cells": [
  {
   "cell_type": "code",
   "execution_count": null,
   "metadata": {
    "dotnet_interactive": {
     "language": "csharp"
    }
   },
   "outputs": [],
   "source": [
    "#r \"nuget:Microsoft.Spark\""
   ]
  },
  {
   "cell_type": "code",
   "execution_count": null,
   "metadata": {
    "dotnet_interactive": {
     "language": "csharp"
    }
   },
   "outputs": [],
   "source": [
    "using Microsoft.Spark;\n",
    "using Microsoft.Spark.Sql;\n",
    "using static Microsoft.Spark.Sql.Functions;\n",
    "\n",
    "// run spark : spark-submit --class org.apache.spark.deploy.dotnet.DotnetRunner --master local D:\\3bStudio\\Sandbox\\spark-program\\FirstSparkProgram\\bin\\Debug\\net6.0\\microsoft-spark-3-0_2.12-2.1.0.jar debug\n",
    "// see Spark portal at : http://localhost:4040\n",
    "var spark = SparkSession\n",
    "    .Builder()\n",
    "    .AppName(\"spark-streaming\")\n",
    "    .GetOrCreate();\n",
    "\n",
    "spark.SparkContext.SetLogLevel(\"WARN\");"
   ]
  },
  {
   "cell_type": "code",
   "execution_count": null,
   "metadata": {
    "dotnet_interactive": {
     "language": "csharp"
    }
   },
   "outputs": [],
   "source": [
    "// Before running this step, start NC using this : nc -vvv -l -p 9999\n",
    "DataFrame lines = spark\n",
    "    .ReadStream()\n",
    "    .Format(\"socket\")\n",
    "    .Option(\"host\", \"localhost\")\n",
    "    .Option(\"port\", 9999)\n",
    "    .Option(\"includeTimestamp\", true)\n",
    "    .Load();"
   ]
  },
  {
   "cell_type": "code",
   "execution_count": null,
   "metadata": {
    "dotnet_interactive": {
     "language": "csharp"
    }
   },
   "outputs": [],
   "source": [
    "DataFrame words = lines\n",
    "            .Select(Explode(Split(lines[\"value\"], \" \"))\n",
    "            .Alias(\"word\"));\n",
    "\n",
    "DataFrame wordCounts = words.GroupBy(\"word\").Count();"
   ]
  },
  {
   "cell_type": "code",
   "execution_count": null,
   "metadata": {
    "dotnet_interactive": {
     "language": "csharp"
    }
   },
   "outputs": [],
   "source": [
    "var query = wordCounts\n",
    "    .WriteStream()\n",
    "    .OutputMode(\"complete\")\n",
    "    .Format(\"console\")\n",
    "    .Start();"
   ]
  },
  {
   "cell_type": "code",
   "execution_count": null,
   "metadata": {
    "dotnet_interactive": {
     "language": "csharp"
    }
   },
   "outputs": [],
   "source": [
    "query.AwaitTermination();"
   ]
  }
 ],
 "metadata": {
  "kernelspec": {
   "display_name": ".NET (C#)",
   "language": "C#",
   "name": ".net-csharp"
  },
  "language_info": {
   "name": "C#"
  }
 },
 "nbformat": 4,
 "nbformat_minor": 2
}
